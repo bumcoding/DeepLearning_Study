{
 "cells": [
  {
   "cell_type": "code",
   "execution_count": 1,
   "id": "35b14217-440c-4b53-923c-3b9296e53e8f",
   "metadata": {},
   "outputs": [
    {
     "name": "stdout",
     "output_type": "stream",
     "text": [
      "Epoch 1/10\n"
     ]
    },
    {
     "name": "stderr",
     "output_type": "stream",
     "text": [
      "2023-06-01 13:50:40.692119: W tensorflow/tsl/platform/profile_utils/cpu_utils.cc:128] Failed to get CPU frequency: 0 Hz\n"
     ]
    },
    {
     "name": "stdout",
     "output_type": "stream",
     "text": [
      "469/469 [==============================] - 24s 52ms/step - loss: 2.2801 - accuracy: 0.1551 - val_loss: 2.2310 - val_accuracy: 0.3837\n",
      "Epoch 2/10\n",
      "469/469 [==============================] - 25s 53ms/step - loss: 2.2012 - accuracy: 0.2866 - val_loss: 2.1337 - val_accuracy: 0.6466\n",
      "Epoch 3/10\n",
      "469/469 [==============================] - 25s 53ms/step - loss: 2.1011 - accuracy: 0.4132 - val_loss: 2.0083 - val_accuracy: 0.7123\n",
      "Epoch 4/10\n",
      "469/469 [==============================] - 27s 58ms/step - loss: 1.9744 - accuracy: 0.4965 - val_loss: 1.8461 - val_accuracy: 0.7524\n",
      "Epoch 5/10\n",
      "469/469 [==============================] - 27s 58ms/step - loss: 1.8150 - accuracy: 0.5613 - val_loss: 1.6474 - val_accuracy: 0.7713\n",
      "Epoch 6/10\n",
      "469/469 [==============================] - 27s 57ms/step - loss: 1.6356 - accuracy: 0.5958 - val_loss: 1.4298 - val_accuracy: 0.7894\n",
      "Epoch 7/10\n",
      "469/469 [==============================] - 26s 56ms/step - loss: 1.4553 - accuracy: 0.6292 - val_loss: 1.2214 - val_accuracy: 0.8034\n",
      "Epoch 8/10\n",
      "469/469 [==============================] - 28s 61ms/step - loss: 1.2992 - accuracy: 0.6520 - val_loss: 1.0487 - val_accuracy: 0.8155\n",
      "Epoch 9/10\n",
      "469/469 [==============================] - 31s 66ms/step - loss: 1.1709 - accuracy: 0.6739 - val_loss: 0.9146 - val_accuracy: 0.8247\n",
      "Epoch 10/10\n",
      "469/469 [==============================] - 28s 59ms/step - loss: 1.0683 - accuracy: 0.6934 - val_loss: 0.8124 - val_accuracy: 0.8350\n"
     ]
    }
   ],
   "source": [
    "import keras\n",
    "from keras.datasets import mnist\n",
    "from keras.models import Sequential\n",
    "from keras.layers import Dense, Dropout, Flatten\n",
    "from keras.layers import Conv2D, MaxPooling2D\n",
    "from keras import backend as K\n",
    "\n",
    "# input image dimensions\n",
    "img_rows, img_cols = 28, 28\n",
    "\n",
    "# the data, split between train and test sets\n",
    "(x_train, y_train), (x_test, y_test) = mnist.load_data()\n",
    "\n",
    "if K.image_data_format() == 'channels_first':\n",
    "    x_train = x_train.reshape(x_train.shape[0], 1, img_rows, img_cols)\n",
    "    x_test = x_test.reshape(x_test.shape[0], 1, img_rows, img_cols)\n",
    "    input_shape = (1, img_rows, img_cols)\n",
    "else:\n",
    "    x_train = x_train.reshape(x_train.shape[0], img_rows, img_cols, 1)\n",
    "    x_test = x_test.reshape(x_test.shape[0], img_rows, img_cols, 1)\n",
    "    input_shape = (img_rows, img_cols, 1)\n",
    "\n",
    "x_train = x_train.astype('float32')\n",
    "x_test = x_test.astype('float32')\n",
    "x_train /= 255\n",
    "x_test /= 255\n",
    "\n",
    "# convert class vectors to binary class matrices\n",
    "num_classes = 10\n",
    "y_train = keras.utils.to_categorical(y_train, num_classes)\n",
    "y_test = keras.utils.to_categorical(y_test, num_classes)\n",
    "\n",
    "model = Sequential()\n",
    "model.add(Conv2D(32, kernel_size=(3, 3),\n",
    "                 activation='relu',\n",
    "                 input_shape=input_shape))\n",
    "model.add(Conv2D(64, (3, 3), activation='relu'))\n",
    "model.add(MaxPooling2D(pool_size=(2, 2)))\n",
    "model.add(Dropout(0.25))\n",
    "model.add(Flatten())\n",
    "model.add(Dense(128, activation='relu'))\n",
    "model.add(Dropout(0.5))\n",
    "model.add(Dense(num_classes, activation='softmax'))\n",
    "\n",
    "model.compile(loss=keras.losses.categorical_crossentropy,\n",
    "              optimizer=keras.optimizers.Adadelta(),\n",
    "              metrics=['accuracy'])\n",
    "\n",
    "model.fit(x_train, y_train,\n",
    "          batch_size=128,\n",
    "          epochs=10,\n",
    "          verbose=1,\n",
    "          validation_data=(x_test, y_test))\n",
    "\n",
    "# Save the model\n",
    "model.save('mnist_model.h5')\n"
   ]
  },
  {
   "cell_type": "code",
   "execution_count": 23,
   "id": "13ada199-1cc9-4960-8cbe-e3b9327bbff4",
   "metadata": {},
   "outputs": [
    {
     "name": "stdout",
     "output_type": "stream",
     "text": [
      "1/1 [==============================] - 0s 33ms/step\n",
      "예측한 숫자 :  4\n"
     ]
    }
   ],
   "source": [
    "import cv2\n",
    "import numpy as np\n",
    "from keras.models import load_model\n",
    "\n",
    "# Load the model\n",
    "model = load_model('mnist_model.h5')\n",
    "\n",
    "# Load the image file\n",
    "img = cv2.imread('Data0.png', cv2.IMREAD_GRAYSCALE)\n",
    "\n",
    "# Resize and reshape the image\n",
    "img = cv2.resize(img, (28, 28))\n",
    "img = img.reshape(1, 28, 28, 1)\n",
    "\n",
    "# Normalize the image\n",
    "img = img.astype('float32')\n",
    "img /= 255\n",
    "\n",
    "# Predict the digit\n",
    "proba = model.predict(img)\n",
    "digit = np.argmax(proba)\n",
    "\n",
    "print(\"예측한 숫자 : \", digit)\n"
   ]
  },
  {
   "cell_type": "code",
   "execution_count": null,
   "id": "f471cf66-d51f-43af-a354-d74177cdbf9e",
   "metadata": {},
   "outputs": [],
   "source": []
  }
 ],
 "metadata": {
  "kernelspec": {
   "display_name": "Python 3 (ipykernel)",
   "language": "python",
   "name": "python3"
  },
  "language_info": {
   "codemirror_mode": {
    "name": "ipython",
    "version": 3
   },
   "file_extension": ".py",
   "mimetype": "text/x-python",
   "name": "python",
   "nbconvert_exporter": "python",
   "pygments_lexer": "ipython3",
   "version": "3.8.16"
  }
 },
 "nbformat": 4,
 "nbformat_minor": 5
}
